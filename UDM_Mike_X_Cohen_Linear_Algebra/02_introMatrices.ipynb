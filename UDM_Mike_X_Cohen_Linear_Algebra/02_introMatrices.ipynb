{
 "cells": [
  {
   "cell_type": "code",
   "execution_count": 1,
   "metadata": {},
   "outputs": [],
   "source": [
    "import numpy as np\n",
    "np.set_printoptions(precision=3, suppress=True)"
   ]
  },
  {
   "cell_type": "markdown",
   "metadata": {},
   "source": [
    "\n",
    "---\n",
    "# VIDEO: A zoo of matrices\n",
    "---\n"
   ]
  },
  {
   "cell_type": "code",
   "execution_count": null,
   "metadata": {},
   "outputs": [],
   "source": [
    "# square vs. rectangular\n",
    "S = np.random.randn(5,5)\n",
    "R = np.random.randn(5,2) # 5 rows, 2 columns\n",
    "print(S), print(' ')\n",
    "print(R)"
   ]
  },
  {
   "cell_type": "code",
   "execution_count": null,
   "metadata": {},
   "outputs": [],
   "source": [
    "# identity\n",
    "I = np.eye(3)\n",
    "print(I)"
   ]
  },
  {
   "cell_type": "code",
   "execution_count": null,
   "metadata": {},
   "outputs": [],
   "source": [
    "# zeros\n",
    "Z = np.zeros((4,4))\n",
    "print(Z)"
   ]
  },
  {
   "cell_type": "code",
   "execution_count": null,
   "metadata": {},
   "outputs": [],
   "source": [
    "# diagonal\n",
    "D = np.diag([ 1, 2, 3, 5, 2 ])\n",
    "print(D)"
   ]
  },
  {
   "cell_type": "code",
   "execution_count": null,
   "metadata": {},
   "outputs": [],
   "source": [
    "# create triangular matrix from full matrices\n",
    "S = np.random.randn(5,5)\n",
    "U = np.triu(S)\n",
    "L = np.tril(S)\n",
    "print(L)"
   ]
  },
  {
   "cell_type": "code",
   "execution_count": null,
   "metadata": {},
   "outputs": [],
   "source": [
    "# concatenate matrices (sizes must match!)\n",
    "A = np.random.randn(3,2)\n",
    "B = np.random.randn(4,4)\n",
    "C = np.concatenate((A,B),axis=1)\n",
    "print(C)"
   ]
  },
  {
   "cell_type": "markdown",
   "metadata": {},
   "source": [
    "\n",
    "---\n",
    "# VIDEO: Matrix addition and subtraction\n",
    "---\n"
   ]
  },
  {
   "cell_type": "code",
   "execution_count": null,
   "metadata": {},
   "outputs": [],
   "source": [
    "# create random matrices\n",
    "A = np.random.randn(5,4)\n",
    "B = np.random.randn(5,3)\n",
    "C = np.random.randn(5,4)\n",
    "\n",
    "# try to add them\n",
    "# print(A+B) -> Error\n",
    "print(A+C)"
   ]
  },
  {
   "cell_type": "code",
   "execution_count": null,
   "metadata": {},
   "outputs": [],
   "source": [
    "# \"shifting\" a matrix\n",
    "l = .03 # lambda\n",
    "N = 5  # size of square matrix\n",
    "D = np.random.randn(N,N) # can only shift a square matrix\n",
    "\n",
    "Ds = D + l*np.eye(N)\n",
    "print(D), print(' '), print(Ds)"
   ]
  },
  {
   "cell_type": "markdown",
   "metadata": {},
   "source": [
    "\n",
    "---\n",
    "# VIDEO: Matrix-scalar multiplication\n",
    "---\n"
   ]
  },
  {
   "cell_type": "code",
   "execution_count": null,
   "metadata": {},
   "outputs": [],
   "source": [
    "# define matrix and scalar\n",
    "M = np.array([ [1, 2], [2, 5] ])\n",
    "s = 2\n",
    "\n",
    "# pre- and post-multiplication is the same:\n",
    "print( M*s )\n",
    "print( s*M )"
   ]
  },
  {
   "cell_type": "markdown",
   "metadata": {},
   "source": [
    "## is matrix-scalar multiplication a linear operation?"
   ]
  },
  {
   "cell_type": "code",
   "execution_count": 2,
   "metadata": {},
   "outputs": [
    {
     "name": "stdout",
     "output_type": "stream",
     "text": [
      "[[ 0.036  0.016  0.043  0.025  0.02 ]\n",
      " [ 0.018 -0.027  0.037 -0.048  0.061]\n",
      " [ 0.036 -0.024  0.024 -0.06   0.016]\n",
      " [-0.018 -0.018  0.069  0.061  0.028]\n",
      " [ 0.005 -0.009 -0.047 -0.034 -0.016]\n",
      " [ 0.032  0.053 -0.011 -0.04   0.028]\n",
      " [-0.005  0.009 -0.035  0.028 -0.019]] \n",
      "\n",
      "[[ 0.036  0.016  0.043  0.025  0.02 ]\n",
      " [ 0.018 -0.027  0.037 -0.048  0.061]\n",
      " [ 0.036 -0.024  0.024 -0.06   0.016]\n",
      " [-0.018 -0.018  0.069  0.061  0.028]\n",
      " [ 0.005 -0.009 -0.047 -0.034 -0.016]\n",
      " [ 0.032  0.053 -0.011 -0.04   0.028]\n",
      " [-0.005  0.009 -0.035  0.028 -0.019]] \n",
      "\n",
      "[[ 0.  0.  0.  0. -0.]\n",
      " [ 0. -0.  0.  0. -0.]\n",
      " [ 0. -0.  0.  0.  0.]\n",
      " [ 0.  0.  0.  0.  0.]\n",
      " [-0. -0.  0.  0.  0.]\n",
      " [-0. -0.  0. -0.  0.]\n",
      " [ 0.  0.  0. -0.  0.]]\n"
     ]
    }
   ],
   "source": [
    "# Matrix sizes\n",
    "m = 7\n",
    "n = 5\n",
    "\n",
    "# Matrices\n",
    "A = np.random.randn(m, n)\n",
    "B = np.random.randn(m, n)\n",
    "\n",
    "# Scalar\n",
    "s = np.random.randn()\n",
    "\n",
    "# Both sides of the equation\n",
    "result_left  = s * (A + B)\n",
    "result_right = s * A + s * B\n",
    "\n",
    "print(result_left, '\\n')\n",
    "print(result_right, '\\n')\n",
    "print(result_left - result_right)"
   ]
  },
  {
   "cell_type": "markdown",
   "metadata": {},
   "source": [
    "# VIDEO: Transpose"
   ]
  },
  {
   "cell_type": "code",
   "execution_count": null,
   "metadata": {},
   "outputs": [],
   "source": [
    "M = np.array([  [1,2,3],\n",
    "                [2,3,4] ])\n",
    "\n",
    "print(M), print('')\n",
    "print(M.T), print('') # one transpose\n",
    "print(M.T.T), print('') # double-transpose returns the original matrix"
   ]
  },
  {
   "cell_type": "code",
   "execution_count": null,
   "metadata": {},
   "outputs": [],
   "source": [
    "# can also use the function transpose\n",
    "print(np.transpose(M))"
   ]
  },
  {
   "cell_type": "code",
   "execution_count": null,
   "metadata": {},
   "outputs": [],
   "source": [
    "# warning! be careful when using complex matrices\n",
    "C = np.array([ [4+1j , 3 , 2-4j] ])\n",
    "\n",
    "print(C), print('')\n",
    "print(C.T), print('')\n",
    "print(np.transpose(C)), print('')\n",
    "\n",
    "# Note: In MATLAB, the transpose is the Hermitian transpose; \n",
    "#       in Python, you need to call the Hermitian explicitly by first converting from an array into a matrix\n",
    "print(np.matrix(C).H) # note the sign flips!\n"
   ]
  },
  {
   "cell_type": "code",
   "execution_count": null,
   "metadata": {},
   "outputs": [],
   "source": []
  },
  {
   "cell_type": "markdown",
   "metadata": {},
   "source": [
    "\n",
    "---\n",
    "# VIDEO: Diagonal and trace\n",
    "---\n"
   ]
  },
  {
   "cell_type": "code",
   "execution_count": null,
   "metadata": {},
   "outputs": [],
   "source": [
    "\n",
    "M = np.round( 6 * np.random.randn(4,4) )\n",
    "print(M), print(' ')\n",
    "# extract the diagonals\n",
    "d = np.diag(M)\n",
    "\n",
    "# notice the two ways of using the diag function\n",
    "d = np.diag(M) # input is matrix, output is vector\n",
    "D = np.diag(d) # input is vector, output is matrix\n",
    "print(d)\n",
    "print(D)"
   ]
  },
  {
   "cell_type": "code",
   "execution_count": null,
   "metadata": {},
   "outputs": [],
   "source": [
    "# trace as sum of diagonal elements\n",
    "tr = np.trace(M)\n",
    "tr2 = sum( np.diag(M) )\n",
    "print(tr,tr2)"
   ]
  },
  {
   "cell_type": "markdown",
   "metadata": {},
   "source": [
    "## linearity of trace"
   ]
  },
  {
   "cell_type": "code",
   "execution_count": 10,
   "metadata": {},
   "outputs": [
    {
     "name": "stdout",
     "output_type": "stream",
     "text": [
      "trace(A + B)        = 0.418\n",
      "trace(A) + trace(B) = 0.418\n",
      "\n",
      "trace(lambda * A)   = 0.047\n",
      "lambda * trace(A)   = 0.047\n"
     ]
    }
   ],
   "source": [
    "m = 4\n",
    "n = 7\n",
    "\n",
    "A = np.random.randn(m, n)\n",
    "B = np.random.randn(m, n)\n",
    "l = np.random.rand()\n",
    "\n",
    "print(f'trace(A + B)        = {np.trace(A + B):.3f}')\n",
    "print(f'trace(A) + trace(B) = {np.trace(A) + np.trace(B):.3f}\\n')\n",
    "print(f'trace(lambda * A)   = {np.trace(l * A):.3f}')\n",
    "print(f'lambda * trace(A)   = {l * np.trace(A):.3f}')"
   ]
  },
  {
   "cell_type": "markdown",
   "metadata": {},
   "source": [
    "\n",
    "---\n",
    "# VIDEO: Broadcasting matrix arithmetic\n",
    "---\n"
   ]
  },
  {
   "cell_type": "code",
   "execution_count": 11,
   "metadata": {},
   "outputs": [
    {
     "name": "stdout",
     "output_type": "stream",
     "text": [
      "[[ 1  4  7 10]\n",
      " [ 2  5  8 11]\n",
      " [ 3  6  9 12]] \n",
      "\n",
      "[10, 20, 30, 40] \n",
      "\n",
      "[100, 200, 300] \n",
      "\n"
     ]
    }
   ],
   "source": [
    "# create a matrix\n",
    "A = np.reshape(np.arange(1,13),(3,4),'F') # F=column-wise, C=row\n",
    "\n",
    "# and two vectors (`list` in Python)\n",
    "r = [ 10, 20, 30, 40 ]\n",
    "c = [ 100, 200, 300 ]\n",
    "\n",
    "print(A, '\\n')\n",
    "print(r, '\\n')\n",
    "print(c, '\\n')"
   ]
  },
  {
   "cell_type": "code",
   "execution_count": 13,
   "metadata": {},
   "outputs": [
    {
     "name": "stdout",
     "output_type": "stream",
     "text": [
      "[[11 24 37 50]\n",
      " [12 25 38 51]\n",
      " [13 26 39 52]]\n",
      " \n",
      "[[101 104 107 110]\n",
      " [202 205 208 211]\n",
      " [303 306 309 312]]\n"
     ]
    }
   ],
   "source": [
    "# broadcast on the rows\n",
    "print(A+r), print(' ')\n",
    "\n",
    "# broadcast on the columns\n",
    "print(A+np.reshape(c,(len(c),1))) # only works for explicit column vectors\n"
   ]
  }
 ],
 "metadata": {
  "kernelspec": {
   "display_name": "Python 3",
   "language": "python",
   "name": "python3"
  },
  "language_info": {
   "codemirror_mode": {
    "name": "ipython",
    "version": 3
   },
   "file_extension": ".py",
   "mimetype": "text/x-python",
   "name": "python",
   "nbconvert_exporter": "python",
   "pygments_lexer": "ipython3",
   "version": "3.9.7"
  }
 },
 "nbformat": 4,
 "nbformat_minor": 2
}
