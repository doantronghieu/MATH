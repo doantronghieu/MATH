{
 "cells": [
  {
   "cell_type": "code",
   "execution_count": null,
   "metadata": {},
   "outputs": [],
   "source": [
    "# import libraries\n",
    "import matplotlib.pyplot as plt\n",
    "import numpy as np\n",
    "import numpy.matlib as matlib"
   ]
  },
  {
   "cell_type": "code",
   "execution_count": null,
   "metadata": {},
   "outputs": [],
   "source": [
    "## simulate data\n",
    "\n",
    "# simulation parameters\n",
    "N = 1000  # time points\n",
    "M =   20  # channels\n",
    "\n",
    "# time vector (radian units)\n",
    "t = np.linspace(0,6*np.pi,N)\n",
    "\n",
    "# relationship across channels (imposing covariance)\n",
    "channel_relationship = np.sin(np.linspace(0,2*np.pi,M))\n",
    "\n",
    "# create the data\n",
    "data = np.zeros((M,N))\n",
    "for mi in range(M): # For each channel\n",
    "    data[mi:] = np.sin(t) * channel_relationship[mi]\n",
    "\n",
    "# Add some noise\n",
    "noise_amplitude = 1\n",
    "noise = np.random.randn(M,N) / noise_amplitude\n",
    "data = data + noise\n",
    "    \n",
    "\n",
    "# two ways of visualizing the multichannel data\n",
    "for i in range(M):\n",
    "    plt.plot(t,data[i,:]+i*4)\n",
    "    \n",
    "plt.yticks([])\n",
    "plt.xlabel('Time (a.u.)')\n",
    "plt.ylabel('Channel')\n",
    "plt.show()\n",
    "\n",
    "plt.imshow(data,aspect='auto',vmin=-2,vmax=2,extent=[t[0],t[-1],0,M])\n",
    "plt.xlabel('Time (a.u.)')\n",
    "plt.ylabel('Channel')\n",
    "plt.show()"
   ]
  },
  {
   "cell_type": "code",
   "execution_count": null,
   "metadata": {},
   "outputs": [],
   "source": [
    "## now compute the covariance matrix\n",
    "fig, ax = plt.subplots(1, 2, figsize = (20, 5))\n",
    "\n",
    "# note the size of the output!\n",
    "dataCovMat = np.cov(data.T)\n",
    "ax[0].imshow(dataCovMat,vmin=-.5,vmax=.5)\n",
    "ax[0].set(  title = 'Data covariance matrix', xlabel = '??', ylabel = '??')\n",
    "\n",
    "dataCovMat = np.cov(data)\n",
    "ax[1].imshow(dataCovMat,vmin=-.5,vmax=.5)\n",
    "ax[1].set(  title = 'Data covariance matrix', xlabel = '??', ylabel = '??')\n",
    "\n",
    "plt.tight_layout()\n",
    "plt.show()"
   ]
  },
  {
   "cell_type": "code",
   "execution_count": null,
   "metadata": {},
   "outputs": [],
   "source": [
    "## and now the correlation matrix\n",
    "\n",
    "# note the size of the output!\n",
    "dataCorrMat = np.corrcoef(data)\n",
    "\n",
    "plt.imshow(dataCorrMat,vmin=-.5,vmax=.5)\n",
    "plt.title('Data correlation matrix')\n",
    "plt.xlabel('??')\n",
    "plt.ylabel('??')\n",
    "plt.show()"
   ]
  }
 ],
 "metadata": {
  "kernelspec": {
   "display_name": "Python 3",
   "language": "python",
   "name": "python3"
  },
  "language_info": {
   "codemirror_mode": {
    "name": "ipython",
    "version": 3
   },
   "file_extension": ".py",
   "mimetype": "text/x-python",
   "name": "python",
   "nbconvert_exporter": "python",
   "pygments_lexer": "ipython3",
   "version": "3.9.7"
  }
 },
 "nbformat": 4,
 "nbformat_minor": 2
}
