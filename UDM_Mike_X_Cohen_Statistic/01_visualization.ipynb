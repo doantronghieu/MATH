{
 "cells": [
  {
   "cell_type": "markdown",
   "metadata": {},
   "source": [
    "# Libraries"
   ]
  },
  {
   "cell_type": "code",
   "execution_count": 1,
   "metadata": {},
   "outputs": [],
   "source": [
    "# import libraries\n",
    "import matplotlib.pyplot as plt\n",
    "import numpy as np\n",
    "import pandas as pd\n",
    "import seaborn as sns\n",
    "sns.set()\n",
    "np.set_printoptions(precision=3)"
   ]
  },
  {
   "cell_type": "markdown",
   "metadata": {},
   "source": [
    "# Bar Plot"
   ]
  },
  {
   "cell_type": "code",
   "execution_count": null,
   "metadata": {},
   "outputs": [],
   "source": [
    "## create data for the bar plot\n",
    "\n",
    "# data sizes\n",
    "m = 30 # rows, 30 different people\n",
    "n =  6 # columns, 6 different features of data\n",
    "\n",
    "# generate data\n",
    "data = np.zeros((m,n))\n",
    "\n",
    "for i in range(n):\n",
    "    data[:,i] = 30*np.random.randn(m) * (2*i/(n-1)-1)**2 + (i+1)**2"
   ]
  },
  {
   "cell_type": "code",
   "execution_count": null,
   "metadata": {},
   "outputs": [],
   "source": [
    "# show the bars!\n",
    "\n",
    "fig,ax = plt.subplots(1,3,figsize=(8,2))\n",
    "\n",
    "# 'naked' bars\n",
    "# Taking average of the data along the first dimension\n",
    "ax[0].bar(range(n),np.mean(data,axis=0))\n",
    "ax[0].set_title('Bar plot')\n",
    "\n",
    "# just the error bars\n",
    "ax[1].errorbar(range(n),np.mean(data,axis=0),np.std(data,axis=0,ddof=1),marker='s',linestyle='')\n",
    "ax[1].set_title('Errorbar plot')\n",
    "\n",
    "# both\n",
    "ax[2].bar(range(n),np.mean(data,axis=0))\n",
    "ax[2].errorbar(range(n),np.mean(data,axis=0),np.std(data,axis=0,ddof=1),marker='.',linestyle='',color='k')\n",
    "ax[2].set_title('Error+bar plot')\n",
    "\n",
    "plt.show()"
   ]
  },
  {
   "cell_type": "code",
   "execution_count": null,
   "metadata": {},
   "outputs": [],
   "source": [
    "## manually specify x-axis coordinates\n",
    "\n",
    "xcrossings = [ 1, 2, 4, 5, 6, 9 ]\n",
    "\n",
    "plt.bar(xcrossings,np.mean(data,axis=0))\n",
    "plt.errorbar(xcrossings,np.mean(data,axis=0),np.std(data,axis=0,ddof=1),marker='.',linestyle='',color='k')\n",
    "plt.title('Bar+error plot')\n",
    "\n",
    "plt.show()"
   ]
  },
  {
   "cell_type": "code",
   "execution_count": null,
   "metadata": {},
   "outputs": [],
   "source": [
    "## note about bars from matrices\n",
    "\n",
    "# data are groups (rows) X property (columns)\n",
    "m = [ [2,5,4,3], [1,1,8,6] ]\n",
    "\n",
    "fig,ax = plt.subplots(nrows=2,ncols=2,figsize=(8,8))\n",
    "\n",
    "# conceptualizing the data as <row> groups of <columns>\n",
    "ax[0,0].imshow(m)\n",
    "\n",
    "# using pandas dataframe\n",
    "# prop: property\n",
    "df = pd.DataFrame(m,columns=['prop 0','prop 1','prop 2','prop 3'])\n",
    "df.plot(ax=ax[1,0],kind='bar')\n",
    "ax[1,0].set_title('Grouping by rows')\n",
    "\n",
    "\n",
    "# now other orientation (property X group)\n",
    "ax[0,1].imshow(np.array(m).T)\n",
    "df.T.plot(ax=ax[1,1],kind='bar') # Transpose the df\n",
    "ax[1,1].set_title('Grouping by columns')\n",
    "\n",
    "plt.show()"
   ]
  },
  {
   "cell_type": "markdown",
   "metadata": {},
   "source": [
    "# Box Whisker"
   ]
  },
  {
   "cell_type": "code",
   "execution_count": null,
   "metadata": {},
   "outputs": [],
   "source": [
    "## create data for the bar plot\n",
    "\n",
    "# data sizes\n",
    "m = 30 # rows\n",
    "n =  6 # columns\n",
    "\n",
    "# generate data\n",
    "data = np.zeros((m,n))\n",
    "\n",
    "for i in range(n):\n",
    "    data[:,i] = 30*np.random.randn(m) * (2*i/(n-1)-1)**2 + (i+1)**2"
   ]
  },
  {
   "cell_type": "code",
   "execution_count": null,
   "metadata": {},
   "outputs": [],
   "source": [
    "# now for the boxplot\n",
    "# Data are organized as observations by features. \n",
    "# Each column (feature) in the data corresponds to a different box in the plot\n",
    "plt.boxplot(data)\n",
    "plt.show()"
   ]
  },
  {
   "cell_type": "code",
   "execution_count": null,
   "metadata": {},
   "outputs": [],
   "source": [
    "# now with seaborn, nicer\n",
    "# Vertical orientation\n",
    "sns.boxplot(data=data,orient='v')\n",
    "plt.show()"
   ]
  },
  {
   "cell_type": "code",
   "execution_count": null,
   "metadata": {},
   "outputs": [],
   "source": [
    "# or as a pandas data frame\n",
    "# Horizontal orientation\n",
    "df = pd.DataFrame(data,columns=['zero','one','two','three','four','five'])\n",
    "sns.boxplot(data=df,orient='h')\n",
    "plt.show()"
   ]
  },
  {
   "cell_type": "markdown",
   "metadata": {},
   "source": [
    "# Histogram"
   ]
  },
  {
   "cell_type": "code",
   "execution_count": null,
   "metadata": {},
   "outputs": [],
   "source": [
    "## create data for the histogram\n",
    "\n",
    "# number of data points\n",
    "n = 1000\n",
    "\n",
    "# generate data - log-normal distribution\n",
    "# Normally distributed, can be pos or neg\n",
    "data = np.exp( np.random.randn(n)/2 )\n",
    "plt.plot(data, 's')"
   ]
  },
  {
   "cell_type": "code",
   "execution_count": null,
   "metadata": {},
   "outputs": [],
   "source": [
    "# show as a histogram\n",
    "\n",
    "# number of histogram bins\n",
    "k = 40\n",
    "\n",
    "plt.hist(data,bins=k)\n",
    "plt.show()"
   ]
  },
  {
   "cell_type": "code",
   "execution_count": null,
   "metadata": {},
   "outputs": [],
   "source": [
    "# another option\n",
    "# y: Height of bars, x: bins\n",
    "# The amount of x = Number of boundaries = Number of bins + 1\n",
    "y,x = np.histogram(data,bins=k)\n",
    "\n",
    "# Get centers of bins, use center of bins to plot, not plot boundaries\n",
    "xx = (x[1:]+x[:-1])/2\n",
    "\n",
    "plt.plot(xx,y)\n",
    "plt.show()"
   ]
  },
  {
   "cell_type": "markdown",
   "metadata": {},
   "source": [
    "# Pie charts"
   ]
  },
  {
   "cell_type": "code",
   "execution_count": null,
   "metadata": {},
   "outputs": [],
   "source": [
    "## create data for the plot\n",
    "\n",
    "nbins = 5\n",
    "totalN = 100 # Total data points\n",
    "\n",
    "rawdata = np.ceil(np.logspace(np.log10(1/2),np.log10(nbins-.01),totalN))\n",
    "\n",
    "\n",
    "# prepare data for pie chart\n",
    "uniquenums = np.unique(rawdata)\n",
    "data4pie = np.zeros(len(uniquenums))\n",
    "\n",
    "for i in range(len(uniquenums)):\n",
    "    data4pie[i] = sum(rawdata==uniquenums[i])\n"
   ]
  },
  {
   "cell_type": "code",
   "execution_count": null,
   "metadata": {},
   "outputs": [],
   "source": [
    "# show the pie chart\n",
    "plt.pie(data4pie,labels=100*data4pie/sum(data4pie))\n",
    "plt.show()"
   ]
  },
  {
   "cell_type": "code",
   "execution_count": null,
   "metadata": {},
   "outputs": [],
   "source": [
    "# another option\n",
    "plt.pie(data4pie,labels=['zero','one','two','three','four'],explode=[0,.1,0,.15,0])\n",
    "plt.show()"
   ]
  },
  {
   "cell_type": "code",
   "execution_count": null,
   "metadata": {},
   "outputs": [],
   "source": [
    "## for continuous data\n",
    "\n",
    "# generate log-normal distribution\n",
    "data = np.exp( np.random.randn(1000)/10 )\n",
    "\n",
    "\n",
    "# generate bins using histogram\n",
    "# Breakup the continuous data into bins\n",
    "# Only return the y values (height of bars)\n",
    "histout = np.histogram(data,bins=6)\n",
    "\n",
    "# and show that as a pie chart\n",
    "plt.pie(histout[0])\n",
    "plt.show()"
   ]
  },
  {
   "cell_type": "markdown",
   "metadata": {},
   "source": [
    "# Line Plots"
   ]
  },
  {
   "cell_type": "code",
   "execution_count": null,
   "metadata": {},
   "outputs": [],
   "source": [
    "## create data for the plot\n",
    "\n",
    "# number of data points\n",
    "n = 1000\n",
    "\n",
    "# generate log-normal distribution\n",
    "data1 = np.exp( np.random.randn(n)/2 )\n",
    "data2 = np.exp( np.random.randn(n)/10 ) # Change the width\n",
    "data3 = np.exp( np.random.randn(n)/2 + 1 ) # Change the mean\n"
   ]
  },
  {
   "cell_type": "code",
   "execution_count": null,
   "metadata": {},
   "outputs": [],
   "source": [
    "## plots of their histograms\n",
    "\n",
    "# number of histogram bins\n",
    "k = 20\n",
    "\n",
    "plt.hist(data1,bins=k)\n",
    "plt.hist(data2,bins=k)\n",
    "plt.hist(data3,bins=k)\n",
    "\n",
    "plt.show()"
   ]
  },
  {
   "cell_type": "code",
   "execution_count": null,
   "metadata": {},
   "outputs": [],
   "source": [
    "# histogram discretization for the datasets\n",
    "y1,x1 = np.histogram(data1,bins=k)\n",
    "xx1 = (x1[0:-1] + x1[1:]) / 2\n",
    "y1 = 100 * (1 / sum(y1)) # convert to probability\n",
    "\n",
    "y2,x2 = np.histogram(data2,bins=k)\n",
    "xx2 = (x2[0:-1] + x2[1:]) / 2\n",
    "y2 = 100 * (y2 / sum(y2)) # convert to probability\n",
    "\n",
    "y3,x3 = np.histogram(data3,bins=k)\n",
    "xx3 = (x3[0:-1] + x3[1:]) / 2\n",
    "y3 = 100 * (y3 / sum(y3)) # convert to probability\n",
    "\n",
    "\n",
    "\n",
    "# show the plots\n",
    "plt.plot(xx1,y1,'s-',label='data1')\n",
    "plt.plot(xx2,y2,'o-',label='data2')\n",
    "plt.plot(xx3,y3,'^-',label='data3')\n",
    "\n",
    "plt.legend()\n",
    "plt.xlabel('Value')\n",
    "plt.ylabel('Probability')\n",
    "plt.show()"
   ]
  }
 ],
 "metadata": {
  "interpreter": {
   "hash": "ee5cc6fef2d70a7e71ee3826687cbd150f18158e0b1eef11d4f4f92bb920e304"
  },
  "kernelspec": {
   "display_name": "Python 3.9.7 64-bit",
   "language": "python",
   "name": "python3"
  },
  "language_info": {
   "codemirror_mode": {
    "name": "ipython",
    "version": 3
   },
   "file_extension": ".py",
   "mimetype": "text/x-python",
   "name": "python",
   "nbconvert_exporter": "python",
   "pygments_lexer": "ipython3",
   "version": "3.9.7"
  },
  "orig_nbformat": 4
 },
 "nbformat": 4,
 "nbformat_minor": 2
}
