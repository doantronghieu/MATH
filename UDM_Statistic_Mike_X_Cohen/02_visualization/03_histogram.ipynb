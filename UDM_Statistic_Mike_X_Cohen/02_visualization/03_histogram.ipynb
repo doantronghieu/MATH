{
 "cells": [
  {
   "cell_type": "code",
   "execution_count": 1,
   "metadata": {},
   "outputs": [],
   "source": [
    "# import libraries\n",
    "import matplotlib.pyplot as plt\n",
    "import numpy as np"
   ]
  },
  {
   "cell_type": "code",
   "execution_count": null,
   "metadata": {},
   "outputs": [],
   "source": [
    "## create data for the histogram\n",
    "\n",
    "# number of data points\n",
    "n = 1000\n",
    "\n",
    "# generate data - log-normal distribution\n",
    "# Normally distributed, can be pos or neg\n",
    "data = np.exp( np.random.randn(n)/2 )\n",
    "plt.plot(data, 's')"
   ]
  },
  {
   "cell_type": "code",
   "execution_count": null,
   "metadata": {},
   "outputs": [],
   "source": [
    "# show as a histogram\n",
    "\n",
    "# number of histogram bins\n",
    "k = 40\n",
    "\n",
    "plt.hist(data,bins=k)\n",
    "plt.show()"
   ]
  },
  {
   "cell_type": "code",
   "execution_count": null,
   "metadata": {},
   "outputs": [],
   "source": [
    "# another option\n",
    "# y: Height of bars, x: bins\n",
    "# The amount of x = Number of boundaries = Number of bins + 1\n",
    "y,x = np.histogram(data,bins=k)\n",
    "\n",
    "# Get centers of bins, use center of bins to plot, not plot boundaries\n",
    "xx = (x[1:]+x[:-1])/2\n",
    "\n",
    "plt.plot(xx,y)\n",
    "plt.show()"
   ]
  },
  {
   "cell_type": "code",
   "execution_count": null,
   "metadata": {},
   "outputs": [],
   "source": []
  }
 ],
 "metadata": {
  "kernelspec": {
   "display_name": "Python 3",
   "language": "python",
   "name": "python3"
  },
  "language_info": {
   "codemirror_mode": {
    "name": "ipython",
    "version": 3
   },
   "file_extension": ".py",
   "mimetype": "text/x-python",
   "name": "python",
   "nbconvert_exporter": "python",
   "pygments_lexer": "ipython3",
   "version": "3.10.4"
  }
 },
 "nbformat": 4,
 "nbformat_minor": 2
}
